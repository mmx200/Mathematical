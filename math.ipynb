{
 "cells": [
  {
   "cell_type": "code",
   "execution_count": 16,
   "metadata": {},
   "outputs": [],
   "source": [
    "import numpy as np\n",
    "import os,keras\n",
    "from keras.preprocessing import image     \n",
    "from keras.callbacks import ModelCheckpoint ,Callback,EarlyStopping\n",
    "import matplotlib.image as mpimg\n",
    "import matplotlib.pyplot as plt \n",
    "from keras.utils import plot_model\n",
    "\n",
    "import keras.backend as K\n",
    "from keras.models import *\n",
    "\n",
    "from keras.layers import Convolution2D,Conv2D, MaxPooling2D, GlobalAveragePooling2D\n",
    "from keras.layers import Dropout, Flatten, Dense,LSTM,SimpleRNN,GRU,Activation,Lambda,BatchNormalization\n",
    "from keras.models import Model\n",
    "from keras.layers.core import Reshape\n",
    "from keras.layers.wrappers import Bidirectional,TimeDistributed\n",
    "from keras.regularizers import l2\n",
    "import csv\n",
    "import pandas as pd\n",
    "from keras.optimizers import *\n",
    "from keras.callbacks import *"
   ]
  },
  {
   "cell_type": "code",
   "execution_count": 17,
   "metadata": {},
   "outputs": [],
   "source": [
    "chars = '+-*=0123456789()_'\n",
    "\n",
    "#字符库中的字符数\n",
    "n_class=len(chars)\n",
    "\n",
    "#定义Label的最大长度\n",
    "label_len=15\n",
    "\n",
    "#图片长度，宽度\n",
    "image_width = 300\n",
    "image_height = 64"
   ]
  },
  {
   "cell_type": "markdown",
   "metadata": {},
   "source": [
    "### 辅助函数"
   ]
  },
  {
   "cell_type": "code",
   "execution_count": 18,
   "metadata": {},
   "outputs": [],
   "source": [
    "def path_to_tensor(img_path):\n",
    "    # 用PIL加载RGB图像为PIL.Image.Image类型\n",
    "    img = image.load_img(img_path, target_size=(image_height, image_width))\n",
    "    # 将PIL.Image.Image类型转化为格式为(300, 64, 3)的3维张量\n",
    "    x = image.img_to_array(img).transpose(1,0,2)\n",
    "    return np.expand_dims(x, axis=0)"
   ]
  },
  {
   "cell_type": "code",
   "execution_count": 19,
   "metadata": {},
   "outputs": [],
   "source": [
    "def get_label_y(label):\n",
    "    new_label = label + ''.join(['_']*(label_len - len(label)))\n",
    "    y = [chars.find(c) for c in new_label]\n",
    "    return y\n",
    "\n",
    "def ctc_lambda_func(args):\n",
    "    y_pred, labels, input_length, label_length = args\n",
    "    return K.ctc_batch_cost(labels, y_pred, input_length, label_length)"
   ]
  },
  {
   "cell_type": "markdown",
   "metadata": {},
   "source": [
    "### 模型定义"
   ]
  },
  {
   "cell_type": "code",
   "execution_count": 20,
   "metadata": {},
   "outputs": [
    {
     "name": "stdout",
     "output_type": "stream",
     "text": [
      "__________________________________________________________________________________________________\n",
      "Layer (type)                    Output Shape         Param #     Connected to                     \n",
      "==================================================================================================\n",
      "input_2 (InputLayer)            (None, 300, 64, 3)   0                                            \n",
      "__________________________________________________________________________________________________\n",
      "conv2d_9 (Conv2D)               (None, 300, 64, 32)  896         input_2[0][0]                    \n",
      "__________________________________________________________________________________________________\n",
      "batch_normalization_9 (BatchNor (None, 300, 64, 32)  128         conv2d_9[0][0]                   \n",
      "__________________________________________________________________________________________________\n",
      "conv2d_10 (Conv2D)              (None, 300, 64, 32)  9248        batch_normalization_9[0][0]      \n",
      "__________________________________________________________________________________________________\n",
      "batch_normalization_10 (BatchNo (None, 300, 64, 32)  128         conv2d_10[0][0]                  \n",
      "__________________________________________________________________________________________________\n",
      "max_pooling2d_5 (MaxPooling2D)  (None, 150, 32, 32)  0           batch_normalization_10[0][0]     \n",
      "__________________________________________________________________________________________________\n",
      "conv2d_11 (Conv2D)              (None, 150, 32, 32)  9248        max_pooling2d_5[0][0]            \n",
      "__________________________________________________________________________________________________\n",
      "batch_normalization_11 (BatchNo (None, 150, 32, 32)  128         conv2d_11[0][0]                  \n",
      "__________________________________________________________________________________________________\n",
      "conv2d_12 (Conv2D)              (None, 150, 32, 32)  9248        batch_normalization_11[0][0]     \n",
      "__________________________________________________________________________________________________\n",
      "batch_normalization_12 (BatchNo (None, 150, 32, 32)  128         conv2d_12[0][0]                  \n",
      "__________________________________________________________________________________________________\n",
      "max_pooling2d_6 (MaxPooling2D)  (None, 75, 16, 32)   0           batch_normalization_12[0][0]     \n",
      "__________________________________________________________________________________________________\n",
      "conv2d_13 (Conv2D)              (None, 75, 16, 32)   9248        max_pooling2d_6[0][0]            \n",
      "__________________________________________________________________________________________________\n",
      "batch_normalization_13 (BatchNo (None, 75, 16, 32)   128         conv2d_13[0][0]                  \n",
      "__________________________________________________________________________________________________\n",
      "conv2d_14 (Conv2D)              (None, 75, 16, 32)   9248        batch_normalization_13[0][0]     \n",
      "__________________________________________________________________________________________________\n",
      "batch_normalization_14 (BatchNo (None, 75, 16, 32)   128         conv2d_14[0][0]                  \n",
      "__________________________________________________________________________________________________\n",
      "max_pooling2d_7 (MaxPooling2D)  (None, 37, 8, 32)    0           batch_normalization_14[0][0]     \n",
      "__________________________________________________________________________________________________\n",
      "conv2d_15 (Conv2D)              (None, 37, 8, 128)   36992       max_pooling2d_7[0][0]            \n",
      "__________________________________________________________________________________________________\n",
      "batch_normalization_15 (BatchNo (None, 37, 8, 128)   512         conv2d_15[0][0]                  \n",
      "__________________________________________________________________________________________________\n",
      "conv2d_16 (Conv2D)              (None, 37, 8, 128)   147584      batch_normalization_15[0][0]     \n",
      "__________________________________________________________________________________________________\n",
      "batch_normalization_16 (BatchNo (None, 37, 8, 128)   512         conv2d_16[0][0]                  \n",
      "__________________________________________________________________________________________________\n",
      "max_pooling2d_8 (MaxPooling2D)  (None, 37, 4, 128)   0           batch_normalization_16[0][0]     \n",
      "__________________________________________________________________________________________________\n",
      "reshape_2 (Reshape)             (None, 37, 512)      0           max_pooling2d_8[0][0]            \n",
      "__________________________________________________________________________________________________\n",
      "bidirectional_3 (Bidirectional) (None, 37, 512)      1181184     reshape_2[0][0]                  \n",
      "__________________________________________________________________________________________________\n",
      "bidirectional_4 (Bidirectional) (None, 37, 512)      1181184     bidirectional_3[0][0]            \n",
      "__________________________________________________________________________________________________\n",
      "dropout_2 (Dropout)             (None, 37, 512)      0           bidirectional_4[0][0]            \n",
      "__________________________________________________________________________________________________\n",
      "dense_2 (Dense)                 (None, 37, 17)       8721        dropout_2[0][0]                  \n",
      "__________________________________________________________________________________________________\n",
      "the_labels (InputLayer)         (None, 15)           0                                            \n",
      "__________________________________________________________________________________________________\n",
      "input_length (InputLayer)       (None, 1)            0                                            \n",
      "__________________________________________________________________________________________________\n",
      "label_length (InputLayer)       (None, 1)            0                                            \n",
      "__________________________________________________________________________________________________\n",
      "ctc (Lambda)                    (None, 1)            0           dense_2[0][0]                    \n",
      "                                                                 the_labels[0][0]                 \n",
      "                                                                 input_length[0][0]               \n",
      "                                                                 label_length[0][0]               \n",
      "==================================================================================================\n",
      "Total params: 2,604,593\n",
      "Trainable params: 2,603,697\n",
      "Non-trainable params: 896\n",
      "__________________________________________________________________________________________________\n"
     ]
    }
   ],
   "source": [
    "input_tensor = Input((image_width, image_height, 3))\n",
    "x = input_tensor\n",
    "\n",
    "for i in range(3):\n",
    "    x = Convolution2D(32, (3, 3), activation='relu', padding='same')(x)\n",
    "    x = BatchNormalization()(x)\n",
    "    x = Convolution2D(32, (3, 3), activation='relu', padding='same')(x)\n",
    "    x = BatchNormalization()(x)\n",
    "    x = MaxPooling2D(pool_size=(2, 2))(x)\n",
    "\n",
    "x = Convolution2D(128,(3, 3), activation='relu', padding='same')(x)\n",
    "x = BatchNormalization()(x)\n",
    "x = Convolution2D(128,(3, 3), activation='relu', padding='same')(x)\n",
    "x = BatchNormalization()(x)\n",
    "x = MaxPooling2D(pool_size=(1, 2))(x)\n",
    "    \n",
    "conv_shape = x.get_shape()\n",
    "x = Reshape(target_shape=(int(conv_shape[1]), int(conv_shape[2] * conv_shape[3])))(x)\n",
    "\n",
    "x = Bidirectional(GRU(units=256, return_sequences=True))(x)\n",
    "x = Bidirectional(GRU(units=256, return_sequences=True))(x)\n",
    "\n",
    "x = Dropout(0.25)(x)\n",
    "\n",
    "x = Dense(n_class,activation='softmax')(x)\n",
    "\n",
    "base_model = Model(inputs=input_tensor, outputs=x)\n",
    "\n",
    "labels = Input(name='the_labels', shape=[label_len], dtype='uint8')\n",
    "input_length = Input(name='input_length', shape=[1], dtype='uint8')\n",
    "label_length = Input(name='label_length', shape=[1], dtype='uint8')\n",
    "loss_out = Lambda(ctc_lambda_func, output_shape=(1,), name='ctc')([x, labels, input_length, label_length])\n",
    "\n",
    "model = Model(inputs=[input_tensor, labels, input_length, label_length], outputs=[loss_out])\n",
    "\n",
    "\n",
    "model.summary()"
   ]
  },
  {
   "cell_type": "markdown",
   "metadata": {},
   "source": [
    "### 数据生成器"
   ]
  },
  {
   "cell_type": "code",
   "execution_count": 21,
   "metadata": {},
   "outputs": [],
   "source": [
    "csv_data = pd.read_csv('train.csv')\n",
    "n_train = 90000\n",
    "n_valid = 9000\n",
    "n_test = 1000\n",
    "\n",
    "def gen(datatype='train',batch_size = 128):\n",
    "    datalimit = []\n",
    "\n",
    "    if(datatype=='train'):\n",
    "        datalimit = [0,n_train-1]\n",
    "    elif(datatype=='valid'):\n",
    "        datalimit = [n_train,n_train+n_valid-1]\n",
    "    elif(datatype=='test'):\n",
    "        datalimit = [100000 - n_test,99999]\n",
    "    else:\n",
    "        raise Exception(\"datatype must be train,valid or test\")\n",
    "        \n",
    "    X = np.zeros((batch_size, image_width, image_height, 3), dtype=np.uint8)\n",
    "    y = np.zeros((batch_size, label_len), dtype=np.uint8)\n",
    "    label_length = np.zeros(batch_size，dtype=np.uint8)\n",
    "    i = datalimit[0]-1\n",
    "    while True:\n",
    "        for j in range(0,batch_size):\n",
    "            i = i+1 if i<datalimit[1]-1 else datalimit[0]\n",
    "            X[j] = path_to_tensor(csv_data['filename'][i])\n",
    "            y[j] = get_label_y(csv_data['label'][i])\n",
    "            label_length[j] = len(csv_data['label'][i])\n",
    "        \n",
    "        yield [X, y, np.ones(batch_size)*int(conv_shape[1]), label_length], np.ones(batch_size)"
   ]
  },
  {
   "cell_type": "markdown",
   "metadata": {},
   "source": [
    "### 检测生成器"
   ]
  },
  {
   "cell_type": "code",
   "execution_count": 25,
   "metadata": {},
   "outputs": [
    {
     "name": "stdout",
     "output_type": "stream",
     "text": [
      "X_test shape: (10, 300, 64, 3)\n",
      "y_test shape: (10, 15)\n",
      "input_lens shape: (10,)\n",
      "label_lens shape: (10,)\n",
      "y_true shape: (10,)\n",
      "\n",
      "label length:9.0\n"
     ]
    },
    {
     "data": {
      "image/png": "[encoded data removed]",
      "text/plain": [
       "<Figure size 432x288 with 1 Axes>"
      ]
     },
     "metadata": {},
     "output_type": "display_data"
    }
   ],
   "source": [
    "g = gen('train',10)\n",
    "[X_test, y_test, input_lens, label_lens], y_true  = next(g)\n",
    "\n",
    "print('X_test shape: ' + str(X_test.shape))\n",
    "print('y_test shape: ' + str(y_test.shape))\n",
    "print('input_lens shape: ' + str(input_lens.shape))\n",
    "print('label_lens shape: ' + str(label_lens.shape))\n",
    "print('y_true shape: ' + str(label_lens.shape))\n",
    "\n",
    "plt.imshow(X_test[0].transpose(1,0,2))\n",
    "plt.title(''.join([chars[x] for x in y_test[0]]))\n",
    "print('\\nlabel length:' + str(label_lens[0]))"
   ]
  },
  {
   "cell_type": "markdown",
   "metadata": {},
   "source": [
    "- X_test<br> \n",
    "图像数据，形如：(samples,300,64,3)<br>\n",
    "- y_test<br>\n",
    "图像真实对应的label字符串转码后的数组，形如：(samples,15)。转码逻辑是将label中字符转成字符在字符集chars中的下标值，y_test我们定义的最大长度是15，由于真实label是变长，不足15位的我们补充了特殊字符'_'  ,被转码后对应到数字16<br>\n",
    "- input_lens<br>\n",
    "这个长度是由RNN输出的seq长度，在我们的模型中是37。<br>\n",
    "- label_lens<br>\n",
    "这个是每个label的真实长度，在我们的项目中，label是变长的。<br>\n",
    "- y_true<br>\n",
    "这个是数据生成器随便给的值，计算loss时不会用到\n"
   ]
  },
  {
   "cell_type": "code",
   "execution_count": 23,
   "metadata": {},
   "outputs": [],
   "source": [
    "def evaluate(model, batch_num=1):\n",
    "    count_acc = 0\n",
    "    generator = gen('test',100)\n",
    "    for i in range(batch_num):\n",
    "        [X_test, y_test, _, _], _  = next(generator)\n",
    "        y_pred = model.predict(X_test)\n",
    "        shape = y_pred.shape\n",
    "        ctc_decode = K.ctc_decode(y_pred,input_length=np.ones(shape[0])*shape[1])[0][0]\n",
    "        out = K.get_value(ctc_decode)\n",
    "       \n",
    "        for j in range(y_test.shape[0]):\n",
    "            y_out = ''.join([chars[x] for x in out[j]]).replace('_','')\n",
    "            y_true = ''.join([chars[x] for x in y_test[j]]).replace('_','')\n",
    "            if(y_out==y_true):\n",
    "                count_acc += 1\n",
    "    return count_acc / (batch_num*100)\n",
    "\n",
    "class Evaluate(Callback):\n",
    "    def __init__(self):\n",
    "        self.accs = []\n",
    "    \n",
    "    def on_epoch_end(self, epoch, logs=None):\n",
    "        acc = evaluate(base_model,10)*100\n",
    "        self.accs.append(acc)\n",
    "        print('\\n--------')\n",
    "        print('acc: %f%%'%acc)\n",
    "\n",
    "evaluator = Evaluate()"
   ]
  },
  {
   "cell_type": "code",
   "execution_count": null,
   "metadata": {
    "scrolled": false
   },
   "outputs": [
    {
     "name": "stdout",
     "output_type": "stream",
     "text": [
      "Epoch 1/50\n",
      "703/703 [==============================] - 215s 306ms/step - loss: 3.3716 - val_loss: 2.7601\n",
      "\n",
      "--------\n",
      "acc: 80.000000%\n",
      "\n",
      "Epoch 00001: val_loss improved from inf to 2.76013, saving model to model.hdf5\n",
      "Epoch 2/50\n",
      "703/703 [==============================] - 210s 298ms/step - loss: 1.0532 - val_loss: 1.4080\n",
      "\n",
      "--------\n",
      "acc: 90.100000%\n",
      "\n",
      "Epoch 00002: val_loss improved from 2.76013 to 1.40801, saving model to model.hdf5\n",
      "Epoch 3/50\n",
      "703/703 [==============================] - 209s 297ms/step - loss: 0.7306 - val_loss: 1.4441\n",
      "\n",
      "--------\n",
      "acc: 90.800000%\n",
      "\n",
      "Epoch 00003: val_loss did not improve from 1.40801\n",
      "Epoch 4/50\n",
      "703/703 [==============================] - 209s 297ms/step - loss: 0.6353 - val_loss: 1.2341\n",
      "\n",
      "--------\n",
      "acc: 95.500000%\n",
      "\n",
      "Epoch 00004: val_loss improved from 1.40801 to 1.23414, saving model to model.hdf5\n",
      "Epoch 5/50\n",
      "336/703 [=============>................] - ETA: 1:43 - loss: 0.5594"
     ]
    }
   ],
   "source": [
    "checkpointer = ModelCheckpoint(filepath=\"model.hdf5\", verbose=1, save_best_only=True)\n",
    "\n",
    "batch_size = 128\n",
    "model.compile(loss={'ctc': lambda y_true, y_pred: y_pred}, optimizer=Adam(1e-4))\n",
    "hist = model.fit_generator(gen('train',batch_size), steps_per_epoch=n_train//batch_size, epochs=50,\n",
    "                    callbacks=[EarlyStopping(patience=10), evaluator,checkpointer,ReduceLROnPlateau('loss')],\n",
    "                    validation_data=gen('valid',batch_size),validation_steps=n_valid//batch_size,verbose=1)\n",
    "\n",
    "model.load_weights(\"model.hdf5\")"
   ]
  },
  {
   "cell_type": "code",
   "execution_count": null,
   "metadata": {
    "scrolled": true
   },
   "outputs": [],
   "source": [
    "def training_vis(hist):\n",
    "    loss = hist.history['loss']\n",
    "    val_loss = hist.history['val_loss']\n",
    "\n",
    "    # make a figure\n",
    "    fig = plt.figure(figsize=(8,4))\n",
    "    # subplot loss\n",
    "    ax1 = fig.add_subplot(121)\n",
    "    ax1.plot(loss,label='train_loss')\n",
    "    ax1.plot(val_loss,label='val_loss')\n",
    "    ax1.set_xlabel('Epochs')\n",
    "    ax1.set_ylabel('Loss')\n",
    "    ax1.set_title('Loss on Training and Validation Data')\n",
    "    ax1.legend()\n",
    "\n",
    "    plt.tight_layout()\n",
    "    \n",
    "training_vis(hist)"
   ]
  },
  {
   "cell_type": "markdown",
   "metadata": {},
   "source": [
    "## 测试模型"
   ]
  },
  {
   "cell_type": "code",
   "execution_count": 43,
   "metadata": {},
   "outputs": [],
   "source": [
    "g = gen('test',1)"
   ]
  },
  {
   "cell_type": "code",
   "execution_count": 79,
   "metadata": {},
   "outputs": [
    {
     "name": "stdout",
     "output_type": "stream",
     "text": [
      "True\n",
      "pred:6+(2-3)=5\n",
      "true:6+(2-3)=5\n",
      "[10  0 14  6  1  7 15  3  3  3  3  3  3  3  3  3  3  3  3  3  3  3  3  3\n",
      "  3  3  3  3  3  3  3  3  3 16 16 16  9]\n",
      "[10  0 14  6  1  7 15  3  9 16 16 16 16 16 16]\n"
     ]
    }
   ],
   "source": [
    "[X_test, y_test, _, _], _  = next(g)\n",
    "y_pred = base_model.predict(X_test)\n",
    "out = K.get_value(K.ctc_decode(y_pred, input_length=np.ones(y_pred.shape[0])*y_pred.shape[1])[0][0])\n",
    "\n",
    "out = ''.join([chars[x] for x in out[0]])\n",
    "y_true = ''.join([chars[x] for x in y_test[0]]).replace('_','')\n",
    "\n",
    "print(out==y_true)\n",
    "print('pred:' + str(out) + '\\ntrue:' + str(y_true))\n",
    "\n",
    "argmax = np.argmax(y_pred, axis=2)[0]\n",
    "print(argmax)\n",
    "print(y_test[0])"
   ]
  },
  {
   "cell_type": "code",
   "execution_count": null,
   "metadata": {},
   "outputs": [],
   "source": []
  }
 ],
 "metadata": {
  "kernelspec": {
   "display_name": "Environment (conda_tensorflow_p36)",
   "language": "python",
   "name": "conda_tensorflow_p36"
  },
  "language_info": {
   "codemirror_mode": {
    "name": "ipython",
    "version": 3
   },
   "file_extension": ".py",
   "mimetype": "text/x-python",
   "name": "python",
   "nbconvert_exporter": "python",
   "pygments_lexer": "ipython3",
   "version": "3.6.6"
  }
 },
 "nbformat": 4,
 "nbformat_minor": 2
}
